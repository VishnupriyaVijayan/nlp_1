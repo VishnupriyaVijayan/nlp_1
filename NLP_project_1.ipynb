{
  "nbformat": 4,
  "nbformat_minor": 0,
  "metadata": {
    "colab": {
      "provenance": []
    },
    "kernelspec": {
      "name": "python3",
      "display_name": "Python 3"
    },
    "language_info": {
      "name": "python"
    },
    "accelerator": "GPU",
    "gpuClass": "standard"
  },
  "cells": [
    {
      "cell_type": "code",
      "execution_count": 2,
      "metadata": {
        "colab": {
          "base_uri": "https://localhost:8080/",
          "height": 206
        },
        "id": "QuNcXSi0eqwH",
        "outputId": "2b7e1209-2a3c-4342-b02c-7dd05cbe653c"
      },
      "outputs": [
        {
          "output_type": "execute_result",
          "data": {
            "text/plain": [
              "                                            Sentence Sentiment\n",
              "0  The GeoSolutions technology will leverage Bene...  positive\n",
              "1  $ESI on lows, down $1.50 to $2.50 BK a real po...  negative\n",
              "2  For the last quarter of 2010 , Componenta 's n...  positive\n",
              "3  According to the Finnish-Russian Chamber of Co...   neutral\n",
              "4  The Swedish buyout firm has sold its remaining...   neutral"
            ],
            "text/html": [
              "\n",
              "  <div id=\"df-7f893c63-ef10-43f2-a10d-55ea049f2a0b\">\n",
              "    <div class=\"colab-df-container\">\n",
              "      <div>\n",
              "<style scoped>\n",
              "    .dataframe tbody tr th:only-of-type {\n",
              "        vertical-align: middle;\n",
              "    }\n",
              "\n",
              "    .dataframe tbody tr th {\n",
              "        vertical-align: top;\n",
              "    }\n",
              "\n",
              "    .dataframe thead th {\n",
              "        text-align: right;\n",
              "    }\n",
              "</style>\n",
              "<table border=\"1\" class=\"dataframe\">\n",
              "  <thead>\n",
              "    <tr style=\"text-align: right;\">\n",
              "      <th></th>\n",
              "      <th>Sentence</th>\n",
              "      <th>Sentiment</th>\n",
              "    </tr>\n",
              "  </thead>\n",
              "  <tbody>\n",
              "    <tr>\n",
              "      <th>0</th>\n",
              "      <td>The GeoSolutions technology will leverage Bene...</td>\n",
              "      <td>positive</td>\n",
              "    </tr>\n",
              "    <tr>\n",
              "      <th>1</th>\n",
              "      <td>$ESI on lows, down $1.50 to $2.50 BK a real po...</td>\n",
              "      <td>negative</td>\n",
              "    </tr>\n",
              "    <tr>\n",
              "      <th>2</th>\n",
              "      <td>For the last quarter of 2010 , Componenta 's n...</td>\n",
              "      <td>positive</td>\n",
              "    </tr>\n",
              "    <tr>\n",
              "      <th>3</th>\n",
              "      <td>According to the Finnish-Russian Chamber of Co...</td>\n",
              "      <td>neutral</td>\n",
              "    </tr>\n",
              "    <tr>\n",
              "      <th>4</th>\n",
              "      <td>The Swedish buyout firm has sold its remaining...</td>\n",
              "      <td>neutral</td>\n",
              "    </tr>\n",
              "  </tbody>\n",
              "</table>\n",
              "</div>\n",
              "      <button class=\"colab-df-convert\" onclick=\"convertToInteractive('df-7f893c63-ef10-43f2-a10d-55ea049f2a0b')\"\n",
              "              title=\"Convert this dataframe to an interactive table.\"\n",
              "              style=\"display:none;\">\n",
              "        \n",
              "  <svg xmlns=\"http://www.w3.org/2000/svg\" height=\"24px\"viewBox=\"0 0 24 24\"\n",
              "       width=\"24px\">\n",
              "    <path d=\"M0 0h24v24H0V0z\" fill=\"none\"/>\n",
              "    <path d=\"M18.56 5.44l.94 2.06.94-2.06 2.06-.94-2.06-.94-.94-2.06-.94 2.06-2.06.94zm-11 1L8.5 8.5l.94-2.06 2.06-.94-2.06-.94L8.5 2.5l-.94 2.06-2.06.94zm10 10l.94 2.06.94-2.06 2.06-.94-2.06-.94-.94-2.06-.94 2.06-2.06.94z\"/><path d=\"M17.41 7.96l-1.37-1.37c-.4-.4-.92-.59-1.43-.59-.52 0-1.04.2-1.43.59L10.3 9.45l-7.72 7.72c-.78.78-.78 2.05 0 2.83L4 21.41c.39.39.9.59 1.41.59.51 0 1.02-.2 1.41-.59l7.78-7.78 2.81-2.81c.8-.78.8-2.07 0-2.86zM5.41 20L4 18.59l7.72-7.72 1.47 1.35L5.41 20z\"/>\n",
              "  </svg>\n",
              "      </button>\n",
              "      \n",
              "  <style>\n",
              "    .colab-df-container {\n",
              "      display:flex;\n",
              "      flex-wrap:wrap;\n",
              "      gap: 12px;\n",
              "    }\n",
              "\n",
              "    .colab-df-convert {\n",
              "      background-color: #E8F0FE;\n",
              "      border: none;\n",
              "      border-radius: 50%;\n",
              "      cursor: pointer;\n",
              "      display: none;\n",
              "      fill: #1967D2;\n",
              "      height: 32px;\n",
              "      padding: 0 0 0 0;\n",
              "      width: 32px;\n",
              "    }\n",
              "\n",
              "    .colab-df-convert:hover {\n",
              "      background-color: #E2EBFA;\n",
              "      box-shadow: 0px 1px 2px rgba(60, 64, 67, 0.3), 0px 1px 3px 1px rgba(60, 64, 67, 0.15);\n",
              "      fill: #174EA6;\n",
              "    }\n",
              "\n",
              "    [theme=dark] .colab-df-convert {\n",
              "      background-color: #3B4455;\n",
              "      fill: #D2E3FC;\n",
              "    }\n",
              "\n",
              "    [theme=dark] .colab-df-convert:hover {\n",
              "      background-color: #434B5C;\n",
              "      box-shadow: 0px 1px 3px 1px rgba(0, 0, 0, 0.15);\n",
              "      filter: drop-shadow(0px 1px 2px rgba(0, 0, 0, 0.3));\n",
              "      fill: #FFFFFF;\n",
              "    }\n",
              "  </style>\n",
              "\n",
              "      <script>\n",
              "        const buttonEl =\n",
              "          document.querySelector('#df-7f893c63-ef10-43f2-a10d-55ea049f2a0b button.colab-df-convert');\n",
              "        buttonEl.style.display =\n",
              "          google.colab.kernel.accessAllowed ? 'block' : 'none';\n",
              "\n",
              "        async function convertToInteractive(key) {\n",
              "          const element = document.querySelector('#df-7f893c63-ef10-43f2-a10d-55ea049f2a0b');\n",
              "          const dataTable =\n",
              "            await google.colab.kernel.invokeFunction('convertToInteractive',\n",
              "                                                     [key], {});\n",
              "          if (!dataTable) return;\n",
              "\n",
              "          const docLinkHtml = 'Like what you see? Visit the ' +\n",
              "            '<a target=\"_blank\" href=https://colab.research.google.com/notebooks/data_table.ipynb>data table notebook</a>'\n",
              "            + ' to learn more about interactive tables.';\n",
              "          element.innerHTML = '';\n",
              "          dataTable['output_type'] = 'display_data';\n",
              "          await google.colab.output.renderOutput(dataTable, element);\n",
              "          const docLink = document.createElement('div');\n",
              "          docLink.innerHTML = docLinkHtml;\n",
              "          element.appendChild(docLink);\n",
              "        }\n",
              "      </script>\n",
              "    </div>\n",
              "  </div>\n",
              "  "
            ]
          },
          "metadata": {},
          "execution_count": 2
        }
      ],
      "source": [
        "import numpy as np\n",
        "import pandas as pd\n",
        "\n",
        "data=pd.read_csv(\"/content/data.csv\",encoding='unicode_escape')\n",
        "data.head()"
      ]
    },
    {
      "cell_type": "code",
      "source": [
        "data.info()"
      ],
      "metadata": {
        "colab": {
          "base_uri": "https://localhost:8080/"
        },
        "id": "9ZUr9YaVfqGp",
        "outputId": "96de6756-2913-4a1b-806a-bb159bba3cb0"
      },
      "execution_count": 4,
      "outputs": [
        {
          "output_type": "stream",
          "name": "stdout",
          "text": [
            "<class 'pandas.core.frame.DataFrame'>\n",
            "RangeIndex: 5842 entries, 0 to 5841\n",
            "Data columns (total 2 columns):\n",
            " #   Column     Non-Null Count  Dtype \n",
            "---  ------     --------------  ----- \n",
            " 0   Sentence   5842 non-null   object\n",
            " 1   Sentiment  5842 non-null   object\n",
            "dtypes: object(2)\n",
            "memory usage: 91.4+ KB\n"
          ]
        }
      ]
    },
    {
      "cell_type": "code",
      "source": [
        "import nltk\n",
        "nltk.download('stopwords')\n",
        "nltk.download('wordnet')\n",
        "nltk.download('omw-1.4')\n",
        "import re\n",
        "import string"
      ],
      "metadata": {
        "colab": {
          "base_uri": "https://localhost:8080/"
        },
        "id": "PqE-Iu1RfzQW",
        "outputId": "f20d48c5-5bc2-4f76-8fec-02c4decdeb29"
      },
      "execution_count": 5,
      "outputs": [
        {
          "output_type": "stream",
          "name": "stderr",
          "text": [
            "[nltk_data] Downloading package stopwords to /root/nltk_data...\n",
            "[nltk_data]   Unzipping corpora/stopwords.zip.\n",
            "[nltk_data] Downloading package wordnet to /root/nltk_data...\n",
            "[nltk_data] Downloading package omw-1.4 to /root/nltk_data...\n"
          ]
        }
      ]
    },
    {
      "cell_type": "code",
      "source": [
        "stopwords = nltk.corpus.stopwords.words('english')\n",
        "wn = nltk.WordNetLemmatizer()\n",
        "\n",
        "def clean_text(text):\n",
        "    text = \"\".join([word for word in text if word not in string.punctuation])\n",
        "    text_tokenize = re.split('\\W+', text)\n",
        "    text_nostop = [word for word in text_tokenize if word not in stopwords]\n",
        "    #text_stemm = [ps.stem(x) for x in text_nostop]\n",
        "    text_lemm = [wn.lemmatize(x) for x in text_nostop]\n",
        "    return text_lemm\n",
        "\n",
        "data['text_clean'] = data['Sentence'].apply(lambda x: clean_text(x.lower()))\n",
        "\n",
        "data.head()\n",
        "     "
      ],
      "metadata": {
        "colab": {
          "base_uri": "https://localhost:8080/",
          "height": 354
        },
        "id": "Gk6QEwhjf2av",
        "outputId": "9d46351b-c5b0-44e4-b22c-a75289ffa5d0"
      },
      "execution_count": 7,
      "outputs": [
        {
          "output_type": "execute_result",
          "data": {
            "text/plain": [
              "                                                                                                                                                                                                                     Sentence  \\\n",
              "0  The GeoSolutions technology will leverage Benefon 's GPS solutions by providing Location Based Search Technology , a Communities Platform , location relevant multimedia content and a new and powerful commercial model .   \n",
              "1                                                                                                                                                                     $ESI on lows, down $1.50 to $2.50 BK a real possibility   \n",
              "2                           For the last quarter of 2010 , Componenta 's net sales doubled to EUR131m from EUR76m for the same period a year earlier , while it moved to a zero pre-tax profit from a pre-tax loss of EUR7m .   \n",
              "3                                                                                            According to the Finnish-Russian Chamber of Commerce , all the major construction companies of Finland are operating in Russia .   \n",
              "4                                                                                     The Swedish buyout firm has sold its remaining 22.4 percent stake , almost eighteen months after taking the company public in Finland .   \n",
              "\n",
              "  Sentiment  \\\n",
              "0  positive   \n",
              "1  negative   \n",
              "2  positive   \n",
              "3   neutral   \n",
              "4   neutral   \n",
              "\n",
              "                                                                                                                                                                                                       text_clean  \n",
              "0  [geosolutions, technology, leverage, benefon, gps, solution, providing, location, based, search, technology, community, platform, location, relevant, multimedia, content, new, powerful, commercial, model, ]  \n",
              "1                                                                                                                                                                     [esi, low, 150, 250, bk, real, possibility]  \n",
              "2                                                               [last, quarter, 2010, componenta, net, sale, doubled, eur131m, eur76m, period, year, earlier, moved, zero, pretax, profit, pretax, loss, eur7m, ]  \n",
              "3                                                                                                      [according, finnishrussian, chamber, commerce, major, construction, company, finland, operating, russia, ]  \n",
              "4                                                                                      [swedish, buyout, firm, sold, remaining, 224, percent, stake, almost, eighteen, month, taking, company, public, finland, ]  "
            ],
            "text/html": [
              "\n",
              "  <div id=\"df-ffc0da8a-6d1b-4a0b-8c06-d990c08793ac\">\n",
              "    <div class=\"colab-df-container\">\n",
              "      <div>\n",
              "<style scoped>\n",
              "    .dataframe tbody tr th:only-of-type {\n",
              "        vertical-align: middle;\n",
              "    }\n",
              "\n",
              "    .dataframe tbody tr th {\n",
              "        vertical-align: top;\n",
              "    }\n",
              "\n",
              "    .dataframe thead th {\n",
              "        text-align: right;\n",
              "    }\n",
              "</style>\n",
              "<table border=\"1\" class=\"dataframe\">\n",
              "  <thead>\n",
              "    <tr style=\"text-align: right;\">\n",
              "      <th></th>\n",
              "      <th>Sentence</th>\n",
              "      <th>Sentiment</th>\n",
              "      <th>text_clean</th>\n",
              "    </tr>\n",
              "  </thead>\n",
              "  <tbody>\n",
              "    <tr>\n",
              "      <th>0</th>\n",
              "      <td>The GeoSolutions technology will leverage Benefon 's GPS solutions by providing Location Based Search Technology , a Communities Platform , location relevant multimedia content and a new and powerful commercial model .</td>\n",
              "      <td>positive</td>\n",
              "      <td>[geosolutions, technology, leverage, benefon, gps, solution, providing, location, based, search, technology, community, platform, location, relevant, multimedia, content, new, powerful, commercial, model, ]</td>\n",
              "    </tr>\n",
              "    <tr>\n",
              "      <th>1</th>\n",
              "      <td>$ESI on lows, down $1.50 to $2.50 BK a real possibility</td>\n",
              "      <td>negative</td>\n",
              "      <td>[esi, low, 150, 250, bk, real, possibility]</td>\n",
              "    </tr>\n",
              "    <tr>\n",
              "      <th>2</th>\n",
              "      <td>For the last quarter of 2010 , Componenta 's net sales doubled to EUR131m from EUR76m for the same period a year earlier , while it moved to a zero pre-tax profit from a pre-tax loss of EUR7m .</td>\n",
              "      <td>positive</td>\n",
              "      <td>[last, quarter, 2010, componenta, net, sale, doubled, eur131m, eur76m, period, year, earlier, moved, zero, pretax, profit, pretax, loss, eur7m, ]</td>\n",
              "    </tr>\n",
              "    <tr>\n",
              "      <th>3</th>\n",
              "      <td>According to the Finnish-Russian Chamber of Commerce , all the major construction companies of Finland are operating in Russia .</td>\n",
              "      <td>neutral</td>\n",
              "      <td>[according, finnishrussian, chamber, commerce, major, construction, company, finland, operating, russia, ]</td>\n",
              "    </tr>\n",
              "    <tr>\n",
              "      <th>4</th>\n",
              "      <td>The Swedish buyout firm has sold its remaining 22.4 percent stake , almost eighteen months after taking the company public in Finland .</td>\n",
              "      <td>neutral</td>\n",
              "      <td>[swedish, buyout, firm, sold, remaining, 224, percent, stake, almost, eighteen, month, taking, company, public, finland, ]</td>\n",
              "    </tr>\n",
              "  </tbody>\n",
              "</table>\n",
              "</div>\n",
              "      <button class=\"colab-df-convert\" onclick=\"convertToInteractive('df-ffc0da8a-6d1b-4a0b-8c06-d990c08793ac')\"\n",
              "              title=\"Convert this dataframe to an interactive table.\"\n",
              "              style=\"display:none;\">\n",
              "        \n",
              "  <svg xmlns=\"http://www.w3.org/2000/svg\" height=\"24px\"viewBox=\"0 0 24 24\"\n",
              "       width=\"24px\">\n",
              "    <path d=\"M0 0h24v24H0V0z\" fill=\"none\"/>\n",
              "    <path d=\"M18.56 5.44l.94 2.06.94-2.06 2.06-.94-2.06-.94-.94-2.06-.94 2.06-2.06.94zm-11 1L8.5 8.5l.94-2.06 2.06-.94-2.06-.94L8.5 2.5l-.94 2.06-2.06.94zm10 10l.94 2.06.94-2.06 2.06-.94-2.06-.94-.94-2.06-.94 2.06-2.06.94z\"/><path d=\"M17.41 7.96l-1.37-1.37c-.4-.4-.92-.59-1.43-.59-.52 0-1.04.2-1.43.59L10.3 9.45l-7.72 7.72c-.78.78-.78 2.05 0 2.83L4 21.41c.39.39.9.59 1.41.59.51 0 1.02-.2 1.41-.59l7.78-7.78 2.81-2.81c.8-.78.8-2.07 0-2.86zM5.41 20L4 18.59l7.72-7.72 1.47 1.35L5.41 20z\"/>\n",
              "  </svg>\n",
              "      </button>\n",
              "      \n",
              "  <style>\n",
              "    .colab-df-container {\n",
              "      display:flex;\n",
              "      flex-wrap:wrap;\n",
              "      gap: 12px;\n",
              "    }\n",
              "\n",
              "    .colab-df-convert {\n",
              "      background-color: #E8F0FE;\n",
              "      border: none;\n",
              "      border-radius: 50%;\n",
              "      cursor: pointer;\n",
              "      display: none;\n",
              "      fill: #1967D2;\n",
              "      height: 32px;\n",
              "      padding: 0 0 0 0;\n",
              "      width: 32px;\n",
              "    }\n",
              "\n",
              "    .colab-df-convert:hover {\n",
              "      background-color: #E2EBFA;\n",
              "      box-shadow: 0px 1px 2px rgba(60, 64, 67, 0.3), 0px 1px 3px 1px rgba(60, 64, 67, 0.15);\n",
              "      fill: #174EA6;\n",
              "    }\n",
              "\n",
              "    [theme=dark] .colab-df-convert {\n",
              "      background-color: #3B4455;\n",
              "      fill: #D2E3FC;\n",
              "    }\n",
              "\n",
              "    [theme=dark] .colab-df-convert:hover {\n",
              "      background-color: #434B5C;\n",
              "      box-shadow: 0px 1px 3px 1px rgba(0, 0, 0, 0.15);\n",
              "      filter: drop-shadow(0px 1px 2px rgba(0, 0, 0, 0.3));\n",
              "      fill: #FFFFFF;\n",
              "    }\n",
              "  </style>\n",
              "\n",
              "      <script>\n",
              "        const buttonEl =\n",
              "          document.querySelector('#df-ffc0da8a-6d1b-4a0b-8c06-d990c08793ac button.colab-df-convert');\n",
              "        buttonEl.style.display =\n",
              "          google.colab.kernel.accessAllowed ? 'block' : 'none';\n",
              "\n",
              "        async function convertToInteractive(key) {\n",
              "          const element = document.querySelector('#df-ffc0da8a-6d1b-4a0b-8c06-d990c08793ac');\n",
              "          const dataTable =\n",
              "            await google.colab.kernel.invokeFunction('convertToInteractive',\n",
              "                                                     [key], {});\n",
              "          if (!dataTable) return;\n",
              "\n",
              "          const docLinkHtml = 'Like what you see? Visit the ' +\n",
              "            '<a target=\"_blank\" href=https://colab.research.google.com/notebooks/data_table.ipynb>data table notebook</a>'\n",
              "            + ' to learn more about interactive tables.';\n",
              "          element.innerHTML = '';\n",
              "          dataTable['output_type'] = 'display_data';\n",
              "          await google.colab.output.renderOutput(dataTable, element);\n",
              "          const docLink = document.createElement('div');\n",
              "          docLink.innerHTML = docLinkHtml;\n",
              "          element.appendChild(docLink);\n",
              "        }\n",
              "      </script>\n",
              "    </div>\n",
              "  </div>\n",
              "  "
            ]
          },
          "metadata": {},
          "execution_count": 7
        }
      ]
    },
    {
      "cell_type": "code",
      "source": [
        "import gensim\n",
        "data['text_clean_gensim']=data.Sentence.apply(lambda x: gensim.utils.simple_preprocess(x))\n",
        "data.head()"
      ],
      "metadata": {
        "colab": {
          "base_uri": "https://localhost:8080/",
          "height": 458
        },
        "id": "axiPbUnwf7Hn",
        "outputId": "53a939e6-0b48-4ae1-831a-3f47158eae02"
      },
      "execution_count": 8,
      "outputs": [
        {
          "output_type": "execute_result",
          "data": {
            "text/plain": [
              "                                                                                                                                                                                                                     Sentence  \\\n",
              "0  The GeoSolutions technology will leverage Benefon 's GPS solutions by providing Location Based Search Technology , a Communities Platform , location relevant multimedia content and a new and powerful commercial model .   \n",
              "1                                                                                                                                                                     $ESI on lows, down $1.50 to $2.50 BK a real possibility   \n",
              "2                           For the last quarter of 2010 , Componenta 's net sales doubled to EUR131m from EUR76m for the same period a year earlier , while it moved to a zero pre-tax profit from a pre-tax loss of EUR7m .   \n",
              "3                                                                                            According to the Finnish-Russian Chamber of Commerce , all the major construction companies of Finland are operating in Russia .   \n",
              "4                                                                                     The Swedish buyout firm has sold its remaining 22.4 percent stake , almost eighteen months after taking the company public in Finland .   \n",
              "\n",
              "  Sentiment  \\\n",
              "0  positive   \n",
              "1  negative   \n",
              "2  positive   \n",
              "3   neutral   \n",
              "4   neutral   \n",
              "\n",
              "                                                                                                                                                                                                       text_clean  \\\n",
              "0  [geosolutions, technology, leverage, benefon, gps, solution, providing, location, based, search, technology, community, platform, location, relevant, multimedia, content, new, powerful, commercial, model, ]   \n",
              "1                                                                                                                                                                     [esi, low, 150, 250, bk, real, possibility]   \n",
              "2                                                               [last, quarter, 2010, componenta, net, sale, doubled, eur131m, eur76m, period, year, earlier, moved, zero, pretax, profit, pretax, loss, eur7m, ]   \n",
              "3                                                                                                      [according, finnishrussian, chamber, commerce, major, construction, company, finland, operating, russia, ]   \n",
              "4                                                                                      [swedish, buyout, firm, sold, remaining, 224, percent, stake, almost, eighteen, month, taking, company, public, finland, ]   \n",
              "\n",
              "                                                                                                                                                                                                                          text_clean_gensim  \n",
              "0  [the, geosolutions, technology, will, leverage, benefon, gps, solutions, by, providing, location, based, search, technology, communities, platform, location, relevant, multimedia, content, and, new, and, powerful, commercial, model]  \n",
              "1                                                                                                                                                                                          [esi, on, lows, down, to, bk, real, possibility]  \n",
              "2                                    [for, the, last, quarter, of, componenta, net, sales, doubled, to, eur, from, eur, for, the, same, period, year, earlier, while, it, moved, to, zero, pre, tax, profit, from, pre, tax, loss, of, eur]  \n",
              "3                                                                                          [according, to, the, finnish, russian, chamber, of, commerce, all, the, major, construction, companies, of, finland, are, operating, in, russia]  \n",
              "4                                                                                       [the, swedish, buyout, firm, has, sold, its, remaining, percent, stake, almost, eighteen, months, after, taking, the, company, public, in, finland]  "
            ],
            "text/html": [
              "\n",
              "  <div id=\"df-3cbdba34-da04-4954-92f9-b391ec385942\">\n",
              "    <div class=\"colab-df-container\">\n",
              "      <div>\n",
              "<style scoped>\n",
              "    .dataframe tbody tr th:only-of-type {\n",
              "        vertical-align: middle;\n",
              "    }\n",
              "\n",
              "    .dataframe tbody tr th {\n",
              "        vertical-align: top;\n",
              "    }\n",
              "\n",
              "    .dataframe thead th {\n",
              "        text-align: right;\n",
              "    }\n",
              "</style>\n",
              "<table border=\"1\" class=\"dataframe\">\n",
              "  <thead>\n",
              "    <tr style=\"text-align: right;\">\n",
              "      <th></th>\n",
              "      <th>Sentence</th>\n",
              "      <th>Sentiment</th>\n",
              "      <th>text_clean</th>\n",
              "      <th>text_clean_gensim</th>\n",
              "    </tr>\n",
              "  </thead>\n",
              "  <tbody>\n",
              "    <tr>\n",
              "      <th>0</th>\n",
              "      <td>The GeoSolutions technology will leverage Benefon 's GPS solutions by providing Location Based Search Technology , a Communities Platform , location relevant multimedia content and a new and powerful commercial model .</td>\n",
              "      <td>positive</td>\n",
              "      <td>[geosolutions, technology, leverage, benefon, gps, solution, providing, location, based, search, technology, community, platform, location, relevant, multimedia, content, new, powerful, commercial, model, ]</td>\n",
              "      <td>[the, geosolutions, technology, will, leverage, benefon, gps, solutions, by, providing, location, based, search, technology, communities, platform, location, relevant, multimedia, content, and, new, and, powerful, commercial, model]</td>\n",
              "    </tr>\n",
              "    <tr>\n",
              "      <th>1</th>\n",
              "      <td>$ESI on lows, down $1.50 to $2.50 BK a real possibility</td>\n",
              "      <td>negative</td>\n",
              "      <td>[esi, low, 150, 250, bk, real, possibility]</td>\n",
              "      <td>[esi, on, lows, down, to, bk, real, possibility]</td>\n",
              "    </tr>\n",
              "    <tr>\n",
              "      <th>2</th>\n",
              "      <td>For the last quarter of 2010 , Componenta 's net sales doubled to EUR131m from EUR76m for the same period a year earlier , while it moved to a zero pre-tax profit from a pre-tax loss of EUR7m .</td>\n",
              "      <td>positive</td>\n",
              "      <td>[last, quarter, 2010, componenta, net, sale, doubled, eur131m, eur76m, period, year, earlier, moved, zero, pretax, profit, pretax, loss, eur7m, ]</td>\n",
              "      <td>[for, the, last, quarter, of, componenta, net, sales, doubled, to, eur, from, eur, for, the, same, period, year, earlier, while, it, moved, to, zero, pre, tax, profit, from, pre, tax, loss, of, eur]</td>\n",
              "    </tr>\n",
              "    <tr>\n",
              "      <th>3</th>\n",
              "      <td>According to the Finnish-Russian Chamber of Commerce , all the major construction companies of Finland are operating in Russia .</td>\n",
              "      <td>neutral</td>\n",
              "      <td>[according, finnishrussian, chamber, commerce, major, construction, company, finland, operating, russia, ]</td>\n",
              "      <td>[according, to, the, finnish, russian, chamber, of, commerce, all, the, major, construction, companies, of, finland, are, operating, in, russia]</td>\n",
              "    </tr>\n",
              "    <tr>\n",
              "      <th>4</th>\n",
              "      <td>The Swedish buyout firm has sold its remaining 22.4 percent stake , almost eighteen months after taking the company public in Finland .</td>\n",
              "      <td>neutral</td>\n",
              "      <td>[swedish, buyout, firm, sold, remaining, 224, percent, stake, almost, eighteen, month, taking, company, public, finland, ]</td>\n",
              "      <td>[the, swedish, buyout, firm, has, sold, its, remaining, percent, stake, almost, eighteen, months, after, taking, the, company, public, in, finland]</td>\n",
              "    </tr>\n",
              "  </tbody>\n",
              "</table>\n",
              "</div>\n",
              "      <button class=\"colab-df-convert\" onclick=\"convertToInteractive('df-3cbdba34-da04-4954-92f9-b391ec385942')\"\n",
              "              title=\"Convert this dataframe to an interactive table.\"\n",
              "              style=\"display:none;\">\n",
              "        \n",
              "  <svg xmlns=\"http://www.w3.org/2000/svg\" height=\"24px\"viewBox=\"0 0 24 24\"\n",
              "       width=\"24px\">\n",
              "    <path d=\"M0 0h24v24H0V0z\" fill=\"none\"/>\n",
              "    <path d=\"M18.56 5.44l.94 2.06.94-2.06 2.06-.94-2.06-.94-.94-2.06-.94 2.06-2.06.94zm-11 1L8.5 8.5l.94-2.06 2.06-.94-2.06-.94L8.5 2.5l-.94 2.06-2.06.94zm10 10l.94 2.06.94-2.06 2.06-.94-2.06-.94-.94-2.06-.94 2.06-2.06.94z\"/><path d=\"M17.41 7.96l-1.37-1.37c-.4-.4-.92-.59-1.43-.59-.52 0-1.04.2-1.43.59L10.3 9.45l-7.72 7.72c-.78.78-.78 2.05 0 2.83L4 21.41c.39.39.9.59 1.41.59.51 0 1.02-.2 1.41-.59l7.78-7.78 2.81-2.81c.8-.78.8-2.07 0-2.86zM5.41 20L4 18.59l7.72-7.72 1.47 1.35L5.41 20z\"/>\n",
              "  </svg>\n",
              "      </button>\n",
              "      \n",
              "  <style>\n",
              "    .colab-df-container {\n",
              "      display:flex;\n",
              "      flex-wrap:wrap;\n",
              "      gap: 12px;\n",
              "    }\n",
              "\n",
              "    .colab-df-convert {\n",
              "      background-color: #E8F0FE;\n",
              "      border: none;\n",
              "      border-radius: 50%;\n",
              "      cursor: pointer;\n",
              "      display: none;\n",
              "      fill: #1967D2;\n",
              "      height: 32px;\n",
              "      padding: 0 0 0 0;\n",
              "      width: 32px;\n",
              "    }\n",
              "\n",
              "    .colab-df-convert:hover {\n",
              "      background-color: #E2EBFA;\n",
              "      box-shadow: 0px 1px 2px rgba(60, 64, 67, 0.3), 0px 1px 3px 1px rgba(60, 64, 67, 0.15);\n",
              "      fill: #174EA6;\n",
              "    }\n",
              "\n",
              "    [theme=dark] .colab-df-convert {\n",
              "      background-color: #3B4455;\n",
              "      fill: #D2E3FC;\n",
              "    }\n",
              "\n",
              "    [theme=dark] .colab-df-convert:hover {\n",
              "      background-color: #434B5C;\n",
              "      box-shadow: 0px 1px 3px 1px rgba(0, 0, 0, 0.15);\n",
              "      filter: drop-shadow(0px 1px 2px rgba(0, 0, 0, 0.3));\n",
              "      fill: #FFFFFF;\n",
              "    }\n",
              "  </style>\n",
              "\n",
              "      <script>\n",
              "        const buttonEl =\n",
              "          document.querySelector('#df-3cbdba34-da04-4954-92f9-b391ec385942 button.colab-df-convert');\n",
              "        buttonEl.style.display =\n",
              "          google.colab.kernel.accessAllowed ? 'block' : 'none';\n",
              "\n",
              "        async function convertToInteractive(key) {\n",
              "          const element = document.querySelector('#df-3cbdba34-da04-4954-92f9-b391ec385942');\n",
              "          const dataTable =\n",
              "            await google.colab.kernel.invokeFunction('convertToInteractive',\n",
              "                                                     [key], {});\n",
              "          if (!dataTable) return;\n",
              "\n",
              "          const docLinkHtml = 'Like what you see? Visit the ' +\n",
              "            '<a target=\"_blank\" href=https://colab.research.google.com/notebooks/data_table.ipynb>data table notebook</a>'\n",
              "            + ' to learn more about interactive tables.';\n",
              "          element.innerHTML = '';\n",
              "          dataTable['output_type'] = 'display_data';\n",
              "          await google.colab.output.renderOutput(dataTable, element);\n",
              "          const docLink = document.createElement('div');\n",
              "          docLink.innerHTML = docLinkHtml;\n",
              "          element.appendChild(docLink);\n",
              "        }\n",
              "      </script>\n",
              "    </div>\n",
              "  </div>\n",
              "  "
            ]
          },
          "metadata": {},
          "execution_count": 8
        }
      ]
    },
    {
      "cell_type": "code",
      "source": [
        "# Train test split\n",
        "from sklearn.model_selection import train_test_split\n",
        "X_train,X_test,y_train,y_test=train_test_split(data['text_clean'],data['Sentiment'],test_size=0.2)"
      ],
      "metadata": {
        "id": "j_USybSggNep"
      },
      "execution_count": 9,
      "outputs": []
    },
    {
      "cell_type": "code",
      "source": [
        "# Word 2 Vector\n",
        "w2v_model=gensim.models.Word2Vec(X_train,min_count=1)\n"
      ],
      "metadata": {
        "id": "Ggi1dYxggVpW"
      },
      "execution_count": 11,
      "outputs": []
    },
    {
      "cell_type": "code",
      "source": [
        "vecWords=w2v_model.wv.index2word\n",
        "X_train_vect=np.array([np.array([w2v_model.wv[i] for i in ls if i in vecWords]) for ls in X_train])\n",
        "X_test_vect=np.array([np.array([w2v_model.wv[i] for i in ls if i in vecWords]) for ls in X_test])"
      ],
      "metadata": {
        "colab": {
          "base_uri": "https://localhost:8080/"
        },
        "id": "x7PIKjgMgYNQ",
        "outputId": "ae9cc5c8-4efc-4117-e84e-f0929d441a5e"
      },
      "execution_count": 12,
      "outputs": [
        {
          "output_type": "stream",
          "name": "stderr",
          "text": [
            "<ipython-input-12-f5208e3d810e>:2: VisibleDeprecationWarning: Creating an ndarray from ragged nested sequences (which is a list-or-tuple of lists-or-tuples-or ndarrays with different lengths or shapes) is deprecated. If you meant to do this, you must specify 'dtype=object' when creating the ndarray.\n",
            "  X_train_vect=np.array([np.array([w2v_model.wv[i] for i in ls if i in vecWords]) for ls in X_train])\n",
            "<ipython-input-12-f5208e3d810e>:3: VisibleDeprecationWarning: Creating an ndarray from ragged nested sequences (which is a list-or-tuple of lists-or-tuples-or ndarrays with different lengths or shapes) is deprecated. If you meant to do this, you must specify 'dtype=object' when creating the ndarray.\n",
            "  X_test_vect=np.array([np.array([w2v_model.wv[i] for i in ls if i in vecWords]) for ls in X_test])\n"
          ]
        }
      ]
    },
    {
      "cell_type": "code",
      "source": [
        "X_train_vect_avg=[]\n",
        "for v in X_train_vect:\n",
        "  if v.size:\n",
        "    X_train_vect_avg.append(v.mean(axis=0))\n",
        "  else:\n",
        "      X_train_vect_avg.append(np.zeros(100,dtype=float))"
      ],
      "metadata": {
        "id": "yM8SxoS_ghho"
      },
      "execution_count": 13,
      "outputs": []
    },
    {
      "cell_type": "code",
      "source": [
        "X_test_vect_avg=[]\n",
        "for v in X_test_vect:\n",
        "  if v.size:\n",
        "    X_test_vect_avg.append(v.mean(axis=0))\n",
        "  else:\n",
        "      X_test_vect_avg.append(np.zeros(100,dtype=float))"
      ],
      "metadata": {
        "id": "QkFstpcEgngI"
      },
      "execution_count": 14,
      "outputs": []
    },
    {
      "cell_type": "code",
      "source": [
        "# Random forest\n",
        "\n",
        "from sklearn.ensemble import RandomForestClassifier\n",
        "clf=RandomForestClassifier(n_estimators=100)\n",
        "clf.fit(X_train_vect_avg,y_train)"
      ],
      "metadata": {
        "colab": {
          "base_uri": "https://localhost:8080/"
        },
        "id": "9uQB96TUgpyG",
        "outputId": "52d89f02-8786-4ed9-9abc-ff8236cd0923"
      },
      "execution_count": 15,
      "outputs": [
        {
          "output_type": "execute_result",
          "data": {
            "text/plain": [
              "RandomForestClassifier()"
            ]
          },
          "metadata": {},
          "execution_count": 15
        }
      ]
    },
    {
      "cell_type": "code",
      "source": [
        "from sklearn import metrics\n",
        "y_pred=clf.predict(X_test_vect_avg)\n",
        "metrics.accuracy_score(y_pred,y_test)"
      ],
      "metadata": {
        "colab": {
          "base_uri": "https://localhost:8080/"
        },
        "id": "dv6Efx52gsVI",
        "outputId": "c4c5c78b-514f-4f35-b4ca-96419473ecaf"
      },
      "execution_count": 16,
      "outputs": [
        {
          "output_type": "execute_result",
          "data": {
            "text/plain": [
              "0.5457656116338752"
            ]
          },
          "metadata": {},
          "execution_count": 16
        }
      ]
    },
    {
      "cell_type": "code",
      "source": [
        "## CountVectorizer\n",
        "from sklearn.feature_extraction.text import CountVectorizer\n",
        "\n",
        "count_vect = CountVectorizer(analyzer=clean_text)\n",
        "X_counts = count_vect.fit_transform(data['Sentence'])\n",
        "print(X_counts.shape)\n",
        "#print(count_vect.get_feature_names())\n",
        "print(count_vect.get_feature_names_out())"
      ],
      "metadata": {
        "colab": {
          "base_uri": "https://localhost:8080/"
        },
        "id": "8KBC2NePguus",
        "outputId": "36863653-d02a-4006-9df6-0f8f6ec399ef"
      },
      "execution_count": 18,
      "outputs": [
        {
          "output_type": "stream",
          "name": "stdout",
          "text": [
            "(5842, 13562)\n",
            "['' '0' '00' ... 'Ã³' 'â' 'ð']\n"
          ]
        }
      ]
    },
    {
      "cell_type": "code",
      "source": [
        "X_counts_df = pd.DataFrame(X_counts.toarray())\n",
        "X_counts_df.columns = count_vect.get_feature_names()\n",
        "X_counts_df"
      ],
      "metadata": {
        "colab": {
          "base_uri": "https://localhost:8080/",
          "height": 478
        },
        "id": "3aCrofgNgxhc",
        "outputId": "858b89df-7e4f-46e4-fdeb-429d625e09f3"
      },
      "execution_count": 19,
      "outputs": [
        {
          "output_type": "stream",
          "name": "stderr",
          "text": [
            "/usr/local/lib/python3.8/dist-packages/sklearn/utils/deprecation.py:87: FutureWarning: Function get_feature_names is deprecated; get_feature_names is deprecated in 1.0 and will be removed in 1.2. Please use get_feature_names_out instead.\n",
            "  warnings.warn(msg, category=FutureWarning)\n"
          ]
        },
        {
          "output_type": "execute_result",
          "data": {
            "text/plain": [
              "         0  00  000  000063  0008  001  002  0025  003  ...  zloty  zone  zoo  \\\n",
              "0     1  0   0    0       0     0    0    0     0    0  ...      0     0    0   \n",
              "1     0  0   0    0       0     0    0    0     0    0  ...      0     0    0   \n",
              "2     1  0   0    0       0     0    0    0     0    0  ...      0     0    0   \n",
              "3     1  0   0    0       0     0    0    0     0    0  ...      0     0    0   \n",
              "4     1  0   0    0       0     0    0    0     0    0  ...      0     0    0   \n",
              "...  .. ..  ..  ...     ...   ...  ...  ...   ...  ...  ...    ...   ...  ...   \n",
              "5837  1  0   0    0       0     0    0    0     0    0  ...      0     0    0   \n",
              "5838  1  0   0    0       0     0    0    0     0    0  ...      0     0    0   \n",
              "5839  1  0   0    0       0     0    0    0     0    0  ...      0     0    0   \n",
              "5840  1  0   0    0       0     0    0    0     0    0  ...      0     0    0   \n",
              "5841  1  0   0    0       0     0    0    0     0    0  ...      0     0    0   \n",
              "\n",
              "      zu  Â  Â¼  Ã  Ã³  â  ð  \n",
              "0      0  0   0  0   0  0  0  \n",
              "1      0  0   0  0   0  0  0  \n",
              "2      0  0   0  0   0  0  0  \n",
              "3      0  0   0  0   0  0  0  \n",
              "4      0  0   0  0   0  0  0  \n",
              "...   .. ..  .. ..  .. .. ..  \n",
              "5837   0  0   0  0   0  0  0  \n",
              "5838   0  0   0  0   0  0  0  \n",
              "5839   0  0   0  0   0  0  0  \n",
              "5840   0  0   0  0   0  0  0  \n",
              "5841   0  0   0  0   0  0  0  \n",
              "\n",
              "[5842 rows x 13562 columns]"
            ],
            "text/html": [
              "\n",
              "  <div id=\"df-7c654ecb-a762-47b6-8e07-40dbd91b779d\">\n",
              "    <div class=\"colab-df-container\">\n",
              "      <div>\n",
              "<style scoped>\n",
              "    .dataframe tbody tr th:only-of-type {\n",
              "        vertical-align: middle;\n",
              "    }\n",
              "\n",
              "    .dataframe tbody tr th {\n",
              "        vertical-align: top;\n",
              "    }\n",
              "\n",
              "    .dataframe thead th {\n",
              "        text-align: right;\n",
              "    }\n",
              "</style>\n",
              "<table border=\"1\" class=\"dataframe\">\n",
              "  <thead>\n",
              "    <tr style=\"text-align: right;\">\n",
              "      <th></th>\n",
              "      <th></th>\n",
              "      <th>0</th>\n",
              "      <th>00</th>\n",
              "      <th>000</th>\n",
              "      <th>000063</th>\n",
              "      <th>0008</th>\n",
              "      <th>001</th>\n",
              "      <th>002</th>\n",
              "      <th>0025</th>\n",
              "      <th>003</th>\n",
              "      <th>...</th>\n",
              "      <th>zloty</th>\n",
              "      <th>zone</th>\n",
              "      <th>zoo</th>\n",
              "      <th>zu</th>\n",
              "      <th>Â</th>\n",
              "      <th>Â¼</th>\n",
              "      <th>Ã</th>\n",
              "      <th>Ã³</th>\n",
              "      <th>â</th>\n",
              "      <th>ð</th>\n",
              "    </tr>\n",
              "  </thead>\n",
              "  <tbody>\n",
              "    <tr>\n",
              "      <th>0</th>\n",
              "      <td>1</td>\n",
              "      <td>0</td>\n",
              "      <td>0</td>\n",
              "      <td>0</td>\n",
              "      <td>0</td>\n",
              "      <td>0</td>\n",
              "      <td>0</td>\n",
              "      <td>0</td>\n",
              "      <td>0</td>\n",
              "      <td>0</td>\n",
              "      <td>...</td>\n",
              "      <td>0</td>\n",
              "      <td>0</td>\n",
              "      <td>0</td>\n",
              "      <td>0</td>\n",
              "      <td>0</td>\n",
              "      <td>0</td>\n",
              "      <td>0</td>\n",
              "      <td>0</td>\n",
              "      <td>0</td>\n",
              "      <td>0</td>\n",
              "    </tr>\n",
              "    <tr>\n",
              "      <th>1</th>\n",
              "      <td>0</td>\n",
              "      <td>0</td>\n",
              "      <td>0</td>\n",
              "      <td>0</td>\n",
              "      <td>0</td>\n",
              "      <td>0</td>\n",
              "      <td>0</td>\n",
              "      <td>0</td>\n",
              "      <td>0</td>\n",
              "      <td>0</td>\n",
              "      <td>...</td>\n",
              "      <td>0</td>\n",
              "      <td>0</td>\n",
              "      <td>0</td>\n",
              "      <td>0</td>\n",
              "      <td>0</td>\n",
              "      <td>0</td>\n",
              "      <td>0</td>\n",
              "      <td>0</td>\n",
              "      <td>0</td>\n",
              "      <td>0</td>\n",
              "    </tr>\n",
              "    <tr>\n",
              "      <th>2</th>\n",
              "      <td>1</td>\n",
              "      <td>0</td>\n",
              "      <td>0</td>\n",
              "      <td>0</td>\n",
              "      <td>0</td>\n",
              "      <td>0</td>\n",
              "      <td>0</td>\n",
              "      <td>0</td>\n",
              "      <td>0</td>\n",
              "      <td>0</td>\n",
              "      <td>...</td>\n",
              "      <td>0</td>\n",
              "      <td>0</td>\n",
              "      <td>0</td>\n",
              "      <td>0</td>\n",
              "      <td>0</td>\n",
              "      <td>0</td>\n",
              "      <td>0</td>\n",
              "      <td>0</td>\n",
              "      <td>0</td>\n",
              "      <td>0</td>\n",
              "    </tr>\n",
              "    <tr>\n",
              "      <th>3</th>\n",
              "      <td>1</td>\n",
              "      <td>0</td>\n",
              "      <td>0</td>\n",
              "      <td>0</td>\n",
              "      <td>0</td>\n",
              "      <td>0</td>\n",
              "      <td>0</td>\n",
              "      <td>0</td>\n",
              "      <td>0</td>\n",
              "      <td>0</td>\n",
              "      <td>...</td>\n",
              "      <td>0</td>\n",
              "      <td>0</td>\n",
              "      <td>0</td>\n",
              "      <td>0</td>\n",
              "      <td>0</td>\n",
              "      <td>0</td>\n",
              "      <td>0</td>\n",
              "      <td>0</td>\n",
              "      <td>0</td>\n",
              "      <td>0</td>\n",
              "    </tr>\n",
              "    <tr>\n",
              "      <th>4</th>\n",
              "      <td>1</td>\n",
              "      <td>0</td>\n",
              "      <td>0</td>\n",
              "      <td>0</td>\n",
              "      <td>0</td>\n",
              "      <td>0</td>\n",
              "      <td>0</td>\n",
              "      <td>0</td>\n",
              "      <td>0</td>\n",
              "      <td>0</td>\n",
              "      <td>...</td>\n",
              "      <td>0</td>\n",
              "      <td>0</td>\n",
              "      <td>0</td>\n",
              "      <td>0</td>\n",
              "      <td>0</td>\n",
              "      <td>0</td>\n",
              "      <td>0</td>\n",
              "      <td>0</td>\n",
              "      <td>0</td>\n",
              "      <td>0</td>\n",
              "    </tr>\n",
              "    <tr>\n",
              "      <th>...</th>\n",
              "      <td>...</td>\n",
              "      <td>...</td>\n",
              "      <td>...</td>\n",
              "      <td>...</td>\n",
              "      <td>...</td>\n",
              "      <td>...</td>\n",
              "      <td>...</td>\n",
              "      <td>...</td>\n",
              "      <td>...</td>\n",
              "      <td>...</td>\n",
              "      <td>...</td>\n",
              "      <td>...</td>\n",
              "      <td>...</td>\n",
              "      <td>...</td>\n",
              "      <td>...</td>\n",
              "      <td>...</td>\n",
              "      <td>...</td>\n",
              "      <td>...</td>\n",
              "      <td>...</td>\n",
              "      <td>...</td>\n",
              "      <td>...</td>\n",
              "    </tr>\n",
              "    <tr>\n",
              "      <th>5837</th>\n",
              "      <td>1</td>\n",
              "      <td>0</td>\n",
              "      <td>0</td>\n",
              "      <td>0</td>\n",
              "      <td>0</td>\n",
              "      <td>0</td>\n",
              "      <td>0</td>\n",
              "      <td>0</td>\n",
              "      <td>0</td>\n",
              "      <td>0</td>\n",
              "      <td>...</td>\n",
              "      <td>0</td>\n",
              "      <td>0</td>\n",
              "      <td>0</td>\n",
              "      <td>0</td>\n",
              "      <td>0</td>\n",
              "      <td>0</td>\n",
              "      <td>0</td>\n",
              "      <td>0</td>\n",
              "      <td>0</td>\n",
              "      <td>0</td>\n",
              "    </tr>\n",
              "    <tr>\n",
              "      <th>5838</th>\n",
              "      <td>1</td>\n",
              "      <td>0</td>\n",
              "      <td>0</td>\n",
              "      <td>0</td>\n",
              "      <td>0</td>\n",
              "      <td>0</td>\n",
              "      <td>0</td>\n",
              "      <td>0</td>\n",
              "      <td>0</td>\n",
              "      <td>0</td>\n",
              "      <td>...</td>\n",
              "      <td>0</td>\n",
              "      <td>0</td>\n",
              "      <td>0</td>\n",
              "      <td>0</td>\n",
              "      <td>0</td>\n",
              "      <td>0</td>\n",
              "      <td>0</td>\n",
              "      <td>0</td>\n",
              "      <td>0</td>\n",
              "      <td>0</td>\n",
              "    </tr>\n",
              "    <tr>\n",
              "      <th>5839</th>\n",
              "      <td>1</td>\n",
              "      <td>0</td>\n",
              "      <td>0</td>\n",
              "      <td>0</td>\n",
              "      <td>0</td>\n",
              "      <td>0</td>\n",
              "      <td>0</td>\n",
              "      <td>0</td>\n",
              "      <td>0</td>\n",
              "      <td>0</td>\n",
              "      <td>...</td>\n",
              "      <td>0</td>\n",
              "      <td>0</td>\n",
              "      <td>0</td>\n",
              "      <td>0</td>\n",
              "      <td>0</td>\n",
              "      <td>0</td>\n",
              "      <td>0</td>\n",
              "      <td>0</td>\n",
              "      <td>0</td>\n",
              "      <td>0</td>\n",
              "    </tr>\n",
              "    <tr>\n",
              "      <th>5840</th>\n",
              "      <td>1</td>\n",
              "      <td>0</td>\n",
              "      <td>0</td>\n",
              "      <td>0</td>\n",
              "      <td>0</td>\n",
              "      <td>0</td>\n",
              "      <td>0</td>\n",
              "      <td>0</td>\n",
              "      <td>0</td>\n",
              "      <td>0</td>\n",
              "      <td>...</td>\n",
              "      <td>0</td>\n",
              "      <td>0</td>\n",
              "      <td>0</td>\n",
              "      <td>0</td>\n",
              "      <td>0</td>\n",
              "      <td>0</td>\n",
              "      <td>0</td>\n",
              "      <td>0</td>\n",
              "      <td>0</td>\n",
              "      <td>0</td>\n",
              "    </tr>\n",
              "    <tr>\n",
              "      <th>5841</th>\n",
              "      <td>1</td>\n",
              "      <td>0</td>\n",
              "      <td>0</td>\n",
              "      <td>0</td>\n",
              "      <td>0</td>\n",
              "      <td>0</td>\n",
              "      <td>0</td>\n",
              "      <td>0</td>\n",
              "      <td>0</td>\n",
              "      <td>0</td>\n",
              "      <td>...</td>\n",
              "      <td>0</td>\n",
              "      <td>0</td>\n",
              "      <td>0</td>\n",
              "      <td>0</td>\n",
              "      <td>0</td>\n",
              "      <td>0</td>\n",
              "      <td>0</td>\n",
              "      <td>0</td>\n",
              "      <td>0</td>\n",
              "      <td>0</td>\n",
              "    </tr>\n",
              "  </tbody>\n",
              "</table>\n",
              "<p>5842 rows × 13562 columns</p>\n",
              "</div>\n",
              "      <button class=\"colab-df-convert\" onclick=\"convertToInteractive('df-7c654ecb-a762-47b6-8e07-40dbd91b779d')\"\n",
              "              title=\"Convert this dataframe to an interactive table.\"\n",
              "              style=\"display:none;\">\n",
              "        \n",
              "  <svg xmlns=\"http://www.w3.org/2000/svg\" height=\"24px\"viewBox=\"0 0 24 24\"\n",
              "       width=\"24px\">\n",
              "    <path d=\"M0 0h24v24H0V0z\" fill=\"none\"/>\n",
              "    <path d=\"M18.56 5.44l.94 2.06.94-2.06 2.06-.94-2.06-.94-.94-2.06-.94 2.06-2.06.94zm-11 1L8.5 8.5l.94-2.06 2.06-.94-2.06-.94L8.5 2.5l-.94 2.06-2.06.94zm10 10l.94 2.06.94-2.06 2.06-.94-2.06-.94-.94-2.06-.94 2.06-2.06.94z\"/><path d=\"M17.41 7.96l-1.37-1.37c-.4-.4-.92-.59-1.43-.59-.52 0-1.04.2-1.43.59L10.3 9.45l-7.72 7.72c-.78.78-.78 2.05 0 2.83L4 21.41c.39.39.9.59 1.41.59.51 0 1.02-.2 1.41-.59l7.78-7.78 2.81-2.81c.8-.78.8-2.07 0-2.86zM5.41 20L4 18.59l7.72-7.72 1.47 1.35L5.41 20z\"/>\n",
              "  </svg>\n",
              "      </button>\n",
              "      \n",
              "  <style>\n",
              "    .colab-df-container {\n",
              "      display:flex;\n",
              "      flex-wrap:wrap;\n",
              "      gap: 12px;\n",
              "    }\n",
              "\n",
              "    .colab-df-convert {\n",
              "      background-color: #E8F0FE;\n",
              "      border: none;\n",
              "      border-radius: 50%;\n",
              "      cursor: pointer;\n",
              "      display: none;\n",
              "      fill: #1967D2;\n",
              "      height: 32px;\n",
              "      padding: 0 0 0 0;\n",
              "      width: 32px;\n",
              "    }\n",
              "\n",
              "    .colab-df-convert:hover {\n",
              "      background-color: #E2EBFA;\n",
              "      box-shadow: 0px 1px 2px rgba(60, 64, 67, 0.3), 0px 1px 3px 1px rgba(60, 64, 67, 0.15);\n",
              "      fill: #174EA6;\n",
              "    }\n",
              "\n",
              "    [theme=dark] .colab-df-convert {\n",
              "      background-color: #3B4455;\n",
              "      fill: #D2E3FC;\n",
              "    }\n",
              "\n",
              "    [theme=dark] .colab-df-convert:hover {\n",
              "      background-color: #434B5C;\n",
              "      box-shadow: 0px 1px 3px 1px rgba(0, 0, 0, 0.15);\n",
              "      filter: drop-shadow(0px 1px 2px rgba(0, 0, 0, 0.3));\n",
              "      fill: #FFFFFF;\n",
              "    }\n",
              "  </style>\n",
              "\n",
              "      <script>\n",
              "        const buttonEl =\n",
              "          document.querySelector('#df-7c654ecb-a762-47b6-8e07-40dbd91b779d button.colab-df-convert');\n",
              "        buttonEl.style.display =\n",
              "          google.colab.kernel.accessAllowed ? 'block' : 'none';\n",
              "\n",
              "        async function convertToInteractive(key) {\n",
              "          const element = document.querySelector('#df-7c654ecb-a762-47b6-8e07-40dbd91b779d');\n",
              "          const dataTable =\n",
              "            await google.colab.kernel.invokeFunction('convertToInteractive',\n",
              "                                                     [key], {});\n",
              "          if (!dataTable) return;\n",
              "\n",
              "          const docLinkHtml = 'Like what you see? Visit the ' +\n",
              "            '<a target=\"_blank\" href=https://colab.research.google.com/notebooks/data_table.ipynb>data table notebook</a>'\n",
              "            + ' to learn more about interactive tables.';\n",
              "          element.innerHTML = '';\n",
              "          dataTable['output_type'] = 'display_data';\n",
              "          await google.colab.output.renderOutput(dataTable, element);\n",
              "          const docLink = document.createElement('div');\n",
              "          docLink.innerHTML = docLinkHtml;\n",
              "          element.appendChild(docLink);\n",
              "        }\n",
              "      </script>\n",
              "    </div>\n",
              "  </div>\n",
              "  "
            ]
          },
          "metadata": {},
          "execution_count": 19
        }
      ]
    },
    {
      "cell_type": "code",
      "source": [
        "X = X_counts_df\n",
        "y_ohe = pd.get_dummies(data['Sentiment'])"
      ],
      "metadata": {
        "id": "7BcObdfwg4D2"
      },
      "execution_count": 21,
      "outputs": []
    },
    {
      "cell_type": "code",
      "source": [
        "X.shape,y_ohe.shape"
      ],
      "metadata": {
        "colab": {
          "base_uri": "https://localhost:8080/"
        },
        "id": "smUbnF8Hg7pP",
        "outputId": "2a245a4a-8428-44dd-f799-3bba9dbb2fe4"
      },
      "execution_count": 22,
      "outputs": [
        {
          "output_type": "execute_result",
          "data": {
            "text/plain": [
              "((5842, 13562), (5842, 3))"
            ]
          },
          "metadata": {},
          "execution_count": 22
        }
      ]
    },
    {
      "cell_type": "code",
      "source": [
        "from sklearn.model_selection import train_test_split\n",
        "\n",
        "X_train, X_test, y_train, y_test = train_test_split(X, y_ohe, test_size=0.10, stratify=y_ohe,\n",
        "                                                    random_state=42)\n",
        "X_train, X_val, y_train, y_val = train_test_split(X_train, y_train, test_size=0.15, stratify=y_train,\n",
        "                                                  random_state=42)\n",
        "X_train.shape, X_val.shape, X_test.shape, y_train.shape, y_val.shape, y_test.shape"
      ],
      "metadata": {
        "colab": {
          "base_uri": "https://localhost:8080/"
        },
        "id": "997kTfIuhBkF",
        "outputId": "850f1d36-1c68-4691-9b0b-ae8fbaca48e7"
      },
      "execution_count": 23,
      "outputs": [
        {
          "output_type": "execute_result",
          "data": {
            "text/plain": [
              "((4468, 13562), (789, 13562), (585, 13562), (4468, 3), (789, 3), (585, 3))"
            ]
          },
          "metadata": {},
          "execution_count": 23
        }
      ]
    },
    {
      "cell_type": "code",
      "source": [
        "train_x = np.asarray(X_train)\n",
        "train_y = np.asarray(y_train)\n",
        "validation_x = np.asarray(X_val)\n",
        "validation_y = np.asarray(y_val)\n",
        "train_x = train_x.reshape((train_x.shape[0],1,train_x.shape[1]))\n",
        "validation_x = validation_x.reshape((validation_x.shape[0],1,validation_x.shape[1]))\n",
        "train_x.shape, validation_x.shape\n",
        "     "
      ],
      "metadata": {
        "colab": {
          "base_uri": "https://localhost:8080/"
        },
        "id": "az8sAFCWhK5s",
        "outputId": "1e2a1186-0d35-4499-b267-6118358a32f9"
      },
      "execution_count": 24,
      "outputs": [
        {
          "output_type": "execute_result",
          "data": {
            "text/plain": [
              "((4468, 1, 13562), (789, 1, 13562))"
            ]
          },
          "metadata": {},
          "execution_count": 24
        }
      ]
    },
    {
      "cell_type": "code",
      "source": [
        "from keras.layers.regularization.dropout import Dropout\n",
        "import keras\n",
        "from keras.models import Sequential\n",
        "from keras.layers import Dense\n",
        "from keras.layers import LSTM\n",
        "from keras.layers import BatchNormalization\n",
        "from keras.layers import MaxPooling2D\n",
        "\n",
        "model = Sequential()\n",
        "model.add(LSTM(150, activation='relu', input_shape=(1,train_x.shape[2])))\n",
        "model.add(BatchNormalization())\n",
        "model.add(Dense(100, activation='relu'))\n",
        "model.add(Dropout(0.4))\n",
        "model.add(Dense(30, activation='relu'))\n",
        "model.add(Dropout(0.4))\n",
        "model.add(Dense(3, activation='softmax'))\n",
        "model.compile(loss='categorical_crossentropy', optimizer='adam', metrics=['accuracy'])\n",
        "print(model.summary())\n",
        "     "
      ],
      "metadata": {
        "colab": {
          "base_uri": "https://localhost:8080/"
        },
        "id": "JGNArbfwhOEP",
        "outputId": "7ab1bcf0-fb5e-41d3-d364-b6a1df772116"
      },
      "execution_count": 28,
      "outputs": [
        {
          "output_type": "stream",
          "name": "stderr",
          "text": [
            "WARNING:tensorflow:Layer lstm_1 will not use cuDNN kernels since it doesn't meet the criteria. It will use a generic GPU kernel as fallback when running on GPU.\n"
          ]
        },
        {
          "output_type": "stream",
          "name": "stdout",
          "text": [
            "Model: \"sequential_1\"\n",
            "_________________________________________________________________\n",
            " Layer (type)                Output Shape              Param #   \n",
            "=================================================================\n",
            " lstm_1 (LSTM)               (None, 150)               8227800   \n",
            "                                                                 \n",
            " batch_normalization_1 (Batc  (None, 150)              600       \n",
            " hNormalization)                                                 \n",
            "                                                                 \n",
            " dense_3 (Dense)             (None, 100)               15100     \n",
            "                                                                 \n",
            " dropout_2 (Dropout)         (None, 100)               0         \n",
            "                                                                 \n",
            " dense_4 (Dense)             (None, 30)                3030      \n",
            "                                                                 \n",
            " dropout_3 (Dropout)         (None, 30)                0         \n",
            "                                                                 \n",
            " dense_5 (Dense)             (None, 3)                 93        \n",
            "                                                                 \n",
            "=================================================================\n",
            "Total params: 8,246,623\n",
            "Trainable params: 8,246,323\n",
            "Non-trainable params: 300\n",
            "_________________________________________________________________\n",
            "None\n"
          ]
        }
      ]
    },
    {
      "cell_type": "code",
      "source": [
        "history1=model.fit(train_x,train_y,batch_size=32, epochs=50,verbose=2,validation_data=(validation_x, validation_y ))"
      ],
      "metadata": {
        "colab": {
          "base_uri": "https://localhost:8080/"
        },
        "id": "bgI-T9cehVnu",
        "outputId": "74e02dc9-1eb8-423a-f93b-c514c32e6037"
      },
      "execution_count": 29,
      "outputs": [
        {
          "output_type": "stream",
          "name": "stdout",
          "text": [
            "Epoch 1/50\n",
            "140/140 - 3s - loss: 0.8921 - accuracy: 0.6072 - val_loss: 0.9661 - val_accuracy: 0.5640 - 3s/epoch - 21ms/step\n",
            "Epoch 2/50\n",
            "140/140 - 1s - loss: 0.5659 - accuracy: 0.7735 - val_loss: 0.8708 - val_accuracy: 0.6515 - 1s/epoch - 9ms/step\n",
            "Epoch 3/50\n",
            "140/140 - 1s - loss: 0.3534 - accuracy: 0.8471 - val_loss: 0.7560 - val_accuracy: 0.6882 - 1s/epoch - 8ms/step\n",
            "Epoch 4/50\n",
            "140/140 - 1s - loss: 0.2656 - accuracy: 0.8852 - val_loss: 0.8485 - val_accuracy: 0.6527 - 1s/epoch - 8ms/step\n",
            "Epoch 5/50\n",
            "140/140 - 1s - loss: 0.2384 - accuracy: 0.8932 - val_loss: 1.1701 - val_accuracy: 0.6793 - 1s/epoch - 8ms/step\n",
            "Epoch 6/50\n",
            "140/140 - 1s - loss: 0.1893 - accuracy: 0.8984 - val_loss: 1.3517 - val_accuracy: 0.6768 - 1s/epoch - 8ms/step\n",
            "Epoch 7/50\n",
            "140/140 - 1s - loss: 0.1795 - accuracy: 0.9087 - val_loss: 1.4503 - val_accuracy: 0.6515 - 1s/epoch - 8ms/step\n",
            "Epoch 8/50\n",
            "140/140 - 1s - loss: 0.1722 - accuracy: 0.9098 - val_loss: 1.6552 - val_accuracy: 0.6705 - 1s/epoch - 8ms/step\n",
            "Epoch 9/50\n",
            "140/140 - 1s - loss: 0.1509 - accuracy: 0.9181 - val_loss: 1.7565 - val_accuracy: 0.6641 - 1s/epoch - 9ms/step\n",
            "Epoch 10/50\n",
            "140/140 - 1s - loss: 0.1485 - accuracy: 0.9201 - val_loss: 1.7632 - val_accuracy: 0.6603 - 1s/epoch - 8ms/step\n",
            "Epoch 11/50\n",
            "140/140 - 1s - loss: 0.1496 - accuracy: 0.9161 - val_loss: 1.8825 - val_accuracy: 0.6679 - 1s/epoch - 8ms/step\n",
            "Epoch 12/50\n",
            "140/140 - 1s - loss: 0.1525 - accuracy: 0.9167 - val_loss: 1.8435 - val_accuracy: 0.6641 - 1s/epoch - 9ms/step\n",
            "Epoch 13/50\n",
            "140/140 - 1s - loss: 0.1345 - accuracy: 0.9221 - val_loss: 2.0179 - val_accuracy: 0.6616 - 1s/epoch - 8ms/step\n",
            "Epoch 14/50\n",
            "140/140 - 1s - loss: 0.1330 - accuracy: 0.9181 - val_loss: 2.1696 - val_accuracy: 0.6667 - 1s/epoch - 9ms/step\n",
            "Epoch 15/50\n",
            "140/140 - 2s - loss: 0.1287 - accuracy: 0.9210 - val_loss: 2.5446 - val_accuracy: 0.6553 - 2s/epoch - 13ms/step\n",
            "Epoch 16/50\n",
            "140/140 - 2s - loss: 0.1210 - accuracy: 0.9255 - val_loss: 2.4613 - val_accuracy: 0.6540 - 2s/epoch - 15ms/step\n",
            "Epoch 17/50\n",
            "140/140 - 2s - loss: 0.1208 - accuracy: 0.9282 - val_loss: 2.5946 - val_accuracy: 0.6515 - 2s/epoch - 11ms/step\n",
            "Epoch 18/50\n",
            "140/140 - 1s - loss: 0.1187 - accuracy: 0.9230 - val_loss: 2.6799 - val_accuracy: 0.6540 - 1s/epoch - 9ms/step\n",
            "Epoch 19/50\n",
            "140/140 - 1s - loss: 0.1136 - accuracy: 0.9279 - val_loss: 2.7904 - val_accuracy: 0.6540 - 1s/epoch - 8ms/step\n",
            "Epoch 20/50\n",
            "140/140 - 1s - loss: 0.1137 - accuracy: 0.9232 - val_loss: 2.8948 - val_accuracy: 0.6641 - 1s/epoch - 8ms/step\n",
            "Epoch 21/50\n",
            "140/140 - 1s - loss: 0.1138 - accuracy: 0.9288 - val_loss: 2.8481 - val_accuracy: 0.6527 - 1s/epoch - 8ms/step\n",
            "Epoch 22/50\n",
            "140/140 - 1s - loss: 0.1155 - accuracy: 0.9239 - val_loss: 3.1948 - val_accuracy: 0.6540 - 1s/epoch - 8ms/step\n",
            "Epoch 23/50\n",
            "140/140 - 1s - loss: 0.1213 - accuracy: 0.9255 - val_loss: 2.9246 - val_accuracy: 0.6591 - 1s/epoch - 9ms/step\n",
            "Epoch 24/50\n",
            "140/140 - 1s - loss: 0.1209 - accuracy: 0.9299 - val_loss: 3.1929 - val_accuracy: 0.6603 - 1s/epoch - 9ms/step\n",
            "Epoch 25/50\n",
            "140/140 - 1s - loss: 0.1240 - accuracy: 0.9241 - val_loss: 3.1070 - val_accuracy: 0.6451 - 1s/epoch - 9ms/step\n",
            "Epoch 26/50\n",
            "140/140 - 1s - loss: 0.1240 - accuracy: 0.9261 - val_loss: 3.0800 - val_accuracy: 0.6388 - 1s/epoch - 8ms/step\n",
            "Epoch 27/50\n",
            "140/140 - 1s - loss: 0.1202 - accuracy: 0.9270 - val_loss: 3.0442 - val_accuracy: 0.6439 - 1s/epoch - 9ms/step\n",
            "Epoch 28/50\n",
            "140/140 - 1s - loss: 0.1368 - accuracy: 0.9237 - val_loss: 2.8476 - val_accuracy: 0.6502 - 1s/epoch - 8ms/step\n",
            "Epoch 29/50\n",
            "140/140 - 1s - loss: 0.1230 - accuracy: 0.9284 - val_loss: 2.7990 - val_accuracy: 0.6350 - 1s/epoch - 8ms/step\n",
            "Epoch 30/50\n",
            "140/140 - 1s - loss: 0.1187 - accuracy: 0.9302 - val_loss: 3.0863 - val_accuracy: 0.6426 - 1s/epoch - 9ms/step\n",
            "Epoch 31/50\n",
            "140/140 - 1s - loss: 0.1113 - accuracy: 0.9282 - val_loss: 3.0396 - val_accuracy: 0.6477 - 1s/epoch - 8ms/step\n",
            "Epoch 32/50\n",
            "140/140 - 1s - loss: 0.1108 - accuracy: 0.9282 - val_loss: 3.4207 - val_accuracy: 0.6401 - 1s/epoch - 8ms/step\n",
            "Epoch 33/50\n",
            "140/140 - 1s - loss: 0.1097 - accuracy: 0.9273 - val_loss: 3.3672 - val_accuracy: 0.6464 - 1s/epoch - 9ms/step\n",
            "Epoch 34/50\n",
            "140/140 - 1s - loss: 0.1113 - accuracy: 0.9288 - val_loss: 3.6684 - val_accuracy: 0.6477 - 1s/epoch - 9ms/step\n",
            "Epoch 35/50\n",
            "140/140 - 1s - loss: 0.1163 - accuracy: 0.9277 - val_loss: 3.3179 - val_accuracy: 0.6502 - 1s/epoch - 8ms/step\n",
            "Epoch 36/50\n",
            "140/140 - 1s - loss: 0.1090 - accuracy: 0.9275 - val_loss: 3.5317 - val_accuracy: 0.6502 - 1s/epoch - 9ms/step\n",
            "Epoch 37/50\n",
            "140/140 - 1s - loss: 0.1106 - accuracy: 0.9299 - val_loss: 3.8564 - val_accuracy: 0.6477 - 1s/epoch - 9ms/step\n",
            "Epoch 38/50\n",
            "140/140 - 1s - loss: 0.1177 - accuracy: 0.9270 - val_loss: 3.4686 - val_accuracy: 0.6489 - 1s/epoch - 8ms/step\n",
            "Epoch 39/50\n",
            "140/140 - 1s - loss: 0.1157 - accuracy: 0.9261 - val_loss: 3.2718 - val_accuracy: 0.6477 - 1s/epoch - 8ms/step\n",
            "Epoch 40/50\n",
            "140/140 - 1s - loss: 0.1054 - accuracy: 0.9286 - val_loss: 3.3318 - val_accuracy: 0.6489 - 1s/epoch - 9ms/step\n",
            "Epoch 41/50\n",
            "140/140 - 1s - loss: 0.1016 - accuracy: 0.9346 - val_loss: 3.6201 - val_accuracy: 0.6553 - 1s/epoch - 8ms/step\n",
            "Epoch 42/50\n",
            "140/140 - 1s - loss: 0.1035 - accuracy: 0.9322 - val_loss: 3.7451 - val_accuracy: 0.6489 - 1s/epoch - 9ms/step\n",
            "Epoch 43/50\n",
            "140/140 - 1s - loss: 0.1124 - accuracy: 0.9302 - val_loss: 3.8161 - val_accuracy: 0.6527 - 1s/epoch - 8ms/step\n",
            "Epoch 44/50\n",
            "140/140 - 1s - loss: 0.1142 - accuracy: 0.9275 - val_loss: 3.2487 - val_accuracy: 0.6553 - 1s/epoch - 9ms/step\n",
            "Epoch 45/50\n",
            "140/140 - 1s - loss: 0.1123 - accuracy: 0.9326 - val_loss: 3.5244 - val_accuracy: 0.6565 - 1s/epoch - 8ms/step\n",
            "Epoch 46/50\n",
            "140/140 - 1s - loss: 0.1137 - accuracy: 0.9279 - val_loss: 3.4097 - val_accuracy: 0.6565 - 1s/epoch - 8ms/step\n",
            "Epoch 47/50\n",
            "140/140 - 1s - loss: 0.1066 - accuracy: 0.9317 - val_loss: 3.4923 - val_accuracy: 0.6553 - 1s/epoch - 9ms/step\n",
            "Epoch 48/50\n",
            "140/140 - 1s - loss: 0.1044 - accuracy: 0.9353 - val_loss: 3.6157 - val_accuracy: 0.6540 - 1s/epoch - 9ms/step\n",
            "Epoch 49/50\n",
            "140/140 - 1s - loss: 0.1090 - accuracy: 0.9349 - val_loss: 3.6405 - val_accuracy: 0.6489 - 1s/epoch - 8ms/step\n",
            "Epoch 50/50\n",
            "140/140 - 1s - loss: 0.1089 - accuracy: 0.9329 - val_loss: 3.1387 - val_accuracy: 0.6477 - 1s/epoch - 9ms/step\n"
          ]
        }
      ]
    },
    {
      "cell_type": "code",
      "source": [
        "import matplotlib.pyplot as plt\n",
        "metrics='accuracy'\n",
        "plt.plot(history1.history[metrics])\n",
        "plt.plot(history1.history['val_'+ metrics])\n",
        "plt.xlabel('Epochs')\n",
        "plt.ylabel(metrics)\n",
        "plt.legend(['training', 'test'], loc='upper right')\n",
        "plt.show()"
      ],
      "metadata": {
        "colab": {
          "base_uri": "https://localhost:8080/",
          "height": 281
        },
        "id": "di2Hx_CdhcvR",
        "outputId": "d5bb034e-72c8-4e5a-a3f6-1edc44b779a4"
      },
      "execution_count": 30,
      "outputs": [
        {
          "output_type": "display_data",
          "data": {
            "text/plain": [
              "<Figure size 432x288 with 1 Axes>"
            ],
            "image/png": "[encoded data removed]"
          },
          "metadata": {
            "needs_background": "light"
          }
        }
      ]
    },
    {
      "cell_type": "code",
      "source": [
        "np.argmax(np.array(y_test),axis=1)"
      ],
      "metadata": {
        "colab": {
          "base_uri": "https://localhost:8080/"
        },
        "id": "usCkvE2_ievo",
        "outputId": "6cc7f5be-3e48-45ff-d5f1-4b8bfc94264d"
      },
      "execution_count": 36,
      "outputs": [
        {
          "output_type": "execute_result",
          "data": {
            "text/plain": [
              "array([2, 2, 1, 2, 2, 2, 2, 1, 0, 2, 2, 1, 1, 2, 1, 1, 1, 0, 1, 1, 2, 2,\n",
              "       0, 2, 2, 0, 1, 2, 1, 1, 2, 2, 1, 1, 2, 1, 2, 1, 1, 2, 1, 0, 1, 1,\n",
              "       1, 1, 1, 1, 1, 2, 0, 1, 2, 1, 1, 0, 2, 0, 1, 2, 1, 1, 1, 1, 2, 2,\n",
              "       2, 1, 2, 1, 2, 2, 2, 2, 1, 2, 2, 1, 1, 2, 2, 2, 1, 1, 1, 1, 2, 2,\n",
              "       1, 1, 1, 0, 1, 0, 1, 1, 1, 1, 2, 2, 2, 2, 1, 0, 1, 2, 1, 2, 0, 2,\n",
              "       0, 1, 2, 2, 0, 1, 0, 1, 0, 0, 1, 1, 1, 1, 1, 2, 2, 2, 1, 1, 2, 0,\n",
              "       2, 2, 1, 1, 0, 1, 2, 1, 1, 1, 0, 0, 0, 1, 1, 2, 2, 2, 0, 2, 1, 1,\n",
              "       1, 0, 2, 2, 2, 2, 2, 1, 2, 1, 1, 1, 2, 2, 0, 0, 2, 2, 2, 1, 2, 1,\n",
              "       1, 1, 1, 2, 1, 1, 2, 0, 1, 1, 1, 2, 1, 1, 2, 1, 1, 1, 1, 0, 1, 1,\n",
              "       0, 2, 1, 1, 1, 0, 1, 0, 1, 2, 2, 1, 1, 2, 1, 2, 1, 1, 2, 2, 1, 1,\n",
              "       1, 1, 2, 1, 2, 2, 2, 0, 0, 1, 2, 2, 1, 2, 1, 2, 2, 1, 1, 2, 1, 1,\n",
              "       2, 2, 1, 0, 0, 1, 1, 1, 1, 1, 1, 1, 2, 1, 0, 1, 2, 0, 2, 0, 1, 1,\n",
              "       1, 0, 2, 0, 1, 1, 1, 1, 1, 2, 0, 1, 1, 2, 2, 0, 2, 2, 1, 1, 1, 1,\n",
              "       0, 1, 1, 1, 2, 2, 2, 2, 2, 2, 1, 2, 1, 0, 1, 1, 2, 2, 1, 2, 2, 1,\n",
              "       2, 0, 1, 1, 1, 2, 1, 1, 2, 2, 1, 1, 1, 2, 1, 0, 2, 1, 2, 1, 1, 0,\n",
              "       2, 1, 2, 2, 2, 2, 2, 2, 1, 1, 1, 1, 0, 0, 2, 2, 1, 2, 1, 0, 2, 1,\n",
              "       0, 1, 1, 2, 0, 0, 0, 1, 1, 1, 1, 1, 1, 1, 2, 1, 1, 0, 2, 1, 1, 1,\n",
              "       0, 1, 2, 2, 1, 2, 2, 2, 1, 1, 2, 2, 2, 0, 0, 0, 1, 2, 0, 1, 2, 1,\n",
              "       1, 1, 0, 1, 1, 1, 1, 0, 0, 1, 1, 1, 0, 0, 1, 1, 1, 2, 2, 2, 1, 1,\n",
              "       1, 1, 2, 1, 1, 1, 1, 1, 1, 0, 0, 2, 2, 2, 1, 1, 0, 0, 0, 2, 1, 1,\n",
              "       0, 1, 2, 1, 1, 1, 1, 1, 1, 1, 2, 1, 1, 1, 0, 1, 0, 1, 2, 0, 1, 1,\n",
              "       1, 2, 1, 1, 0, 1, 1, 1, 1, 2, 0, 1, 0, 1, 1, 2, 1, 1, 0, 1, 1, 1,\n",
              "       2, 2, 2, 1, 2, 1, 1, 1, 1, 2, 1, 1, 1, 1, 1, 1, 1, 1, 1, 1, 0, 1,\n",
              "       1, 1, 1, 1, 1, 1, 2, 2, 0, 1, 1, 1, 0, 2, 1, 1, 1, 1, 1, 2, 1, 1,\n",
              "       0, 1, 0, 1, 2, 1, 2, 1, 2, 1, 1, 2, 2, 2, 1, 2, 2, 2, 1, 2, 0, 2,\n",
              "       1, 1, 1, 1, 1, 1, 2, 1, 1, 0, 1, 2, 1, 2, 1, 1, 1, 2, 1, 2, 1, 0,\n",
              "       1, 1, 1, 1, 1, 1, 2, 1, 1, 1, 2, 2, 1])"
            ]
          },
          "metadata": {},
          "execution_count": 36
        }
      ]
    },
    {
      "cell_type": "code",
      "source": [
        "import seaborn as sns\n",
        "from sklearn.metrics import accuracy_score,confusion_matrix,classification_report\n",
        "\n",
        "test_x=np.asarray(X_test)\n",
        "test_x=test_x.reshape((test_x.shape[0],1,test_x.shape[1]))\n",
        "test_y = np.argmax(np.array(y_test),axis=1)\n",
        "y_pred = model.predict(test_x)\n",
        "test_pred=np.argmax(y_pred,axis=1)"
      ],
      "metadata": {
        "colab": {
          "base_uri": "https://localhost:8080/"
        },
        "id": "LTrZ1diohx7h",
        "outputId": "2cd0d0ee-10a6-4d0f-8a93-eae2a6e57be7"
      },
      "execution_count": 37,
      "outputs": [
        {
          "output_type": "stream",
          "name": "stdout",
          "text": [
            "19/19 [==============================] - 0s 4ms/step\n"
          ]
        }
      ]
    },
    {
      "cell_type": "code",
      "source": [
        "test_pred"
      ],
      "metadata": {
        "colab": {
          "base_uri": "https://localhost:8080/"
        },
        "id": "zhjl8d50jCgB",
        "outputId": "41cf4083-e018-4cc1-ef1c-3fa76b9f7cd5"
      },
      "execution_count": 38,
      "outputs": [
        {
          "output_type": "execute_result",
          "data": {
            "text/plain": [
              "array([2, 2, 1, 2, 2, 2, 1, 1, 1, 2, 2, 1, 2, 2, 1, 2, 1, 1, 1, 1, 2, 2,\n",
              "       1, 2, 2, 1, 1, 1, 1, 1, 2, 1, 0, 0, 2, 0, 2, 1, 2, 2, 1, 1, 1, 1,\n",
              "       1, 2, 1, 0, 1, 1, 2, 0, 1, 0, 1, 1, 2, 1, 1, 2, 1, 1, 1, 1, 2, 0,\n",
              "       2, 1, 1, 1, 1, 1, 2, 1, 1, 2, 1, 1, 1, 2, 2, 2, 1, 1, 1, 1, 2, 1,\n",
              "       2, 1, 1, 1, 1, 0, 2, 0, 1, 2, 2, 2, 2, 2, 1, 1, 1, 2, 1, 1, 1, 2,\n",
              "       0, 0, 1, 1, 1, 1, 0, 0, 1, 1, 1, 1, 1, 1, 1, 1, 2, 1, 1, 1, 1, 1,\n",
              "       2, 2, 1, 1, 1, 1, 2, 1, 0, 1, 0, 0, 0, 1, 1, 1, 2, 2, 1, 2, 1, 1,\n",
              "       1, 1, 2, 2, 2, 2, 1, 0, 2, 1, 1, 1, 1, 2, 1, 1, 2, 2, 1, 0, 2, 1,\n",
              "       1, 1, 1, 2, 0, 1, 2, 2, 1, 1, 1, 0, 1, 1, 1, 1, 1, 1, 0, 1, 1, 1,\n",
              "       1, 1, 1, 0, 0, 1, 1, 1, 1, 2, 2, 1, 1, 2, 1, 1, 1, 1, 2, 2, 1, 1,\n",
              "       1, 1, 1, 1, 1, 2, 0, 1, 1, 1, 1, 2, 0, 1, 1, 2, 2, 1, 2, 2, 1, 1,\n",
              "       2, 1, 1, 1, 2, 1, 1, 1, 2, 1, 0, 1, 1, 1, 2, 1, 1, 1, 2, 1, 1, 1,\n",
              "       1, 1, 2, 1, 1, 1, 2, 1, 1, 2, 1, 1, 1, 1, 2, 0, 2, 1, 1, 1, 1, 1,\n",
              "       2, 0, 1, 1, 2, 2, 2, 2, 1, 2, 0, 1, 0, 0, 1, 1, 2, 2, 1, 1, 1, 0,\n",
              "       2, 0, 1, 1, 1, 0, 1, 1, 1, 2, 1, 1, 1, 2, 2, 0, 2, 1, 1, 1, 0, 2,\n",
              "       2, 0, 2, 2, 2, 2, 2, 1, 1, 0, 1, 1, 1, 0, 2, 2, 1, 2, 2, 2, 1, 1,\n",
              "       1, 2, 1, 2, 0, 1, 1, 0, 1, 1, 1, 1, 1, 1, 2, 1, 1, 0, 2, 2, 2, 2,\n",
              "       1, 1, 2, 2, 1, 1, 2, 2, 1, 1, 2, 2, 2, 2, 2, 1, 1, 2, 1, 2, 2, 1,\n",
              "       1, 1, 1, 1, 1, 0, 1, 1, 2, 1, 1, 1, 1, 0, 1, 2, 1, 0, 2, 2, 1, 1,\n",
              "       0, 0, 2, 0, 1, 1, 1, 1, 2, 2, 1, 2, 2, 0, 1, 1, 1, 1, 1, 2, 1, 1,\n",
              "       2, 1, 2, 1, 1, 2, 1, 0, 2, 1, 1, 1, 1, 1, 1, 0, 2, 1, 2, 2, 1, 1,\n",
              "       2, 1, 1, 1, 1, 1, 1, 1, 1, 1, 1, 0, 0, 2, 1, 2, 1, 2, 1, 0, 1, 1,\n",
              "       2, 2, 1, 1, 2, 1, 1, 1, 1, 2, 1, 1, 1, 1, 1, 1, 1, 1, 2, 1, 0, 1,\n",
              "       0, 1, 1, 2, 1, 1, 2, 1, 1, 1, 1, 1, 1, 2, 1, 1, 2, 1, 1, 0, 1, 1,\n",
              "       2, 1, 2, 1, 2, 1, 2, 0, 1, 0, 0, 2, 1, 2, 0, 1, 2, 2, 1, 2, 2, 2,\n",
              "       0, 1, 2, 1, 1, 1, 1, 1, 1, 1, 1, 2, 1, 0, 1, 0, 2, 2, 1, 1, 2, 1,\n",
              "       1, 1, 1, 0, 1, 1, 2, 2, 1, 1, 2, 1, 1])"
            ]
          },
          "metadata": {},
          "execution_count": 38
        }
      ]
    },
    {
      "cell_type": "code",
      "source": [
        "def plot_conf(ypred,y_test):\n",
        "    cf_matrix = confusion_matrix( ypred,y_test)\n",
        "    ax= plt.subplot()\n",
        "    sns.heatmap(cf_matrix,annot=True,ax=ax, cmap=\"BuPu\")\n",
        "    ax.set_xlabel('Predicted labels')\n",
        "    ax.set_ylabel('True labels')\n",
        "    ax.set_title('Confusion Matrix')\n",
        "plot_conf(test_pred,test_y)  "
      ],
      "metadata": {
        "colab": {
          "base_uri": "https://localhost:8080/",
          "height": 295
        },
        "id": "6hO2JnLzjE8j",
        "outputId": "b1eb804a-9ace-4f2f-9929-da161b236b11"
      },
      "execution_count": 39,
      "outputs": [
        {
          "output_type": "display_data",
          "data": {
            "text/plain": [
              "<Figure size 432x288 with 2 Axes>"
            ],
            "image/png": "[encoded data removed]"
          },
          "metadata": {
            "needs_background": "light"
          }
        }
      ]
    },
    {
      "cell_type": "code",
      "source": [],
      "metadata": {
        "id": "xro1yStejKG1"
      },
      "execution_count": null,
      "outputs": []
    }
  ]
}